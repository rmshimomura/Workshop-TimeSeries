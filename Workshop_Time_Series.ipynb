{
  "nbformat": 4,
  "nbformat_minor": 0,
  "metadata": {
    "colab": {
      "provenance": [],
      "include_colab_link": true
    },
    "kernelspec": {
      "name": "python3",
      "display_name": "Python 3"
    },
    "language_info": {
      "name": "python"
    }
  },
  "cells": [
    {
      "cell_type": "markdown",
      "metadata": {
        "id": "view-in-github",
        "colab_type": "text"
      },
      "source": [
        "<a href=\"https://colab.research.google.com/github/rmshimomura/Workshop-TimeSeries/blob/master/Workshop_Time_Series.ipynb\" target=\"_parent\"><img src=\"https://colab.research.google.com/assets/colab-badge.svg\" alt=\"Open In Colab\"/></a>"
      ]
    },
    {
      "cell_type": "code",
      "source": [
        "%pip install pmdarima\n",
        "import matplotlib.pyplot as plt\n",
        "import numpy as np\n",
        "from google.colab import drive\n",
        "import pandas as pd\n",
        "from pmdarima.arima import ndiffs, AutoARIMA, ARIMA\n",
        "from statsmodels.graphics.tsaplots import plot_acf, plot_pacf"
      ],
      "metadata": {
        "id": "ShF4KYwdsWo_"
      },
      "execution_count": null,
      "outputs": []
    },
    {
      "cell_type": "code",
      "source": [
        "drive.mount('/content/drive/')"
      ],
      "metadata": {
        "id": "sPszUUfMMTST"
      },
      "execution_count": null,
      "outputs": []
    },
    {
      "cell_type": "code",
      "source": [
        "caminho_workshop = f''"
      ],
      "metadata": {
        "id": "C4CpQH2lcjBj"
      },
      "execution_count": null,
      "outputs": []
    },
    {
      "cell_type": "code",
      "source": [
        "# Função para plotar séries mais facilmente\n",
        "def plot(vals, title='', sec_plots=[], divisions=[], min_y=None, max_y=None):\n",
        "  if min_y is None:\n",
        "    min_y = min(vals) - np.std(vals)/5\n",
        "  if max_y is None:\n",
        "    max_y = max(vals) + np.std(vals)/5\n",
        "  fig, ax = plt.subplots(figsize=(5,2), dpi=300)\n",
        "  ax.set_title(title)\n",
        "  plt.plot(vals, linewidth=0.5)\n",
        "  for subplot in sec_plots:\n",
        "    plt.plot(subplot, linewidth=0.5)\n",
        "  plt.fill_between(\n",
        "    [i for i in range(len(vals))],\n",
        "    [max_y for i in range(len(vals))],\n",
        "    [min_y for i in range(len(vals))],\n",
        "    where=[True if i in divisions else False for i in range(len(vals))],\n",
        "    color='grey', linestyle='--', alpha=0.5\n",
        "  )\n",
        "\n",
        "  ax.set_ylim(bottom=min_y, top=max_y)\n",
        "\n",
        "  fig.tight_layout()\n",
        "  plt.show()\n",
        "  plt.close(fig)"
      ],
      "metadata": {
        "id": "z-jErnSbdITO"
      },
      "execution_count": null,
      "outputs": []
    },
    {
      "cell_type": "markdown",
      "source": [
        "## Trabalhando com séries reais"
      ],
      "metadata": {
        "id": "aEnVvzfyf8eQ"
      }
    },
    {
      "cell_type": "markdown",
      "source": [
        "Vamos aplicar o que vimos até agora à uma série real. A série que usaremos de exemplo contém a quantidade de passagens em viagens internacionais por mês, os dados foram coletados durante 12 anos."
      ],
      "metadata": {
        "id": "d4j0vjtHgQIS"
      }
    },
    {
      "cell_type": "code",
      "source": [
        "serie = pd.read_csv(f'{caminho_workshop}/AirPassengers.csv')\n",
        "serie.head()"
      ],
      "metadata": {
        "id": "dk_isHgdgX-L"
      },
      "execution_count": null,
      "outputs": []
    },
    {
      "cell_type": "markdown",
      "source": [
        "Vamos ver o comportamento do nosso dado principal na coluna 'value'"
      ],
      "metadata": {
        "id": "vwQTbIVG6pXB"
      }
    },
    {
      "cell_type": "code",
      "source": [
        "plot(serie['value'])"
      ],
      "metadata": {
        "id": "AeawQ20kCkVS"
      },
      "execution_count": null,
      "outputs": []
    },
    {
      "cell_type": "markdown",
      "source": [
        "A série possui tendência? E sazonalidade? Ela é estacionária?\n",
        "\n",
        "---\n",
        "\n",
        "A série possuí uma **tendência**, e tanto a **média quanto a variância dos dados** muda ao longo da série, então podemos dizer que ela também é **não estacionária**. **Também há sazonalidade**, já que temos uma **repetição anual constante**. Podemos usar a função ndiffs para conferir a estacionariedade da série.\n"
      ],
      "metadata": {
        "id": "XoVBzubsFQ8W"
      }
    },
    {
      "cell_type": "code",
      "source": [
        "ndiffs(np.log(serie['value']))"
      ],
      "metadata": {
        "id": "6Fxmytm7HNRG"
      },
      "execution_count": null,
      "outputs": []
    },
    {
      "cell_type": "markdown",
      "source": [
        "De acordo com a função, precisamos fazer uma diferenciação para obter uma série estacionária."
      ],
      "metadata": {
        "id": "UdNhulRvHb81"
      }
    },
    {
      "cell_type": "markdown",
      "source": [
        "# Tratamento dos dados"
      ],
      "metadata": {
        "id": "Nk2z3io-7bFv"
      }
    },
    {
      "cell_type": "markdown",
      "source": [
        "## Retirando aumento da variância\n",
        "\n",
        "Vamos aplicar a função `np.log` da biblioteca `numpy` para retirar a variação da série."
      ],
      "metadata": {
        "id": "M_mxNsp41JM_"
      }
    },
    {
      "cell_type": "code",
      "source": [
        "serie_log = np.log(serie['value'])\n",
        "plot(serie_log)"
      ],
      "metadata": {
        "id": "xx5evE2Q7sYj"
      },
      "execution_count": null,
      "outputs": []
    },
    {
      "cell_type": "markdown",
      "source": [
        "## Retirando a tendência\n",
        "\n",
        "Agora que temos uma variância constante, precisamos retirar a tendência da série. Vamos tentar tirar a diferença de primeira ordem."
      ],
      "metadata": {
        "id": "GkEdPEgH70Uh"
      }
    },
    {
      "cell_type": "code",
      "source": [
        "# Definindo função de diferenciação\n",
        "def lag_diff(serie, lag=1):\n",
        "  return np.array([yt - ytlag for yt, ytlag in zip(serie[lag:], serie[:-lag])])"
      ],
      "metadata": {
        "id": "4AeVDBV7n73S"
      },
      "execution_count": null,
      "outputs": []
    },
    {
      "cell_type": "code",
      "source": [
        "serie_tratada = lag_diff(serie_log)\n",
        "plot(serie_tratada)"
      ],
      "metadata": {
        "id": "wPj9MHfJ1I5S"
      },
      "execution_count": null,
      "outputs": []
    },
    {
      "cell_type": "markdown",
      "source": [
        "Agora temos uma **série estacionária**, pois a média é constante em volta de 0 e sua variância não tem uma mudança significativa ao longo da série."
      ],
      "metadata": {
        "id": "gIVXDl589b6h"
      }
    },
    {
      "cell_type": "markdown",
      "source": [
        "## Predição de séries temporais usando ARIMA\n",
        "\n",
        "O modelo ARIMA (AutoRegressive Integrated Moving Average) é um modelo preditivo estatístico composto por três componentes\n",
        "\n",
        "*   Autoregressão (AR), representa a quantidade de lags anteriores dos dados que nós usaremos no modelo\n",
        "*   Integração (I), representa a quantidade de diferenciações necessárias para tornar a série estacionária\n",
        "*   Média móvel (MA), representa a quantidade de lags anteriores dos **erros** que serão usados no modelo\n",
        "\n",
        "Esses três componentes são representados pelas letras **p, i e q** respectivamente."
      ],
      "metadata": {
        "id": "d9tnL0Oaz7-N"
      }
    },
    {
      "cell_type": "markdown",
      "source": [
        "##Como definir p, i e q?\n",
        "\n",
        "O valor da parte i do arima é a quantidade de **diferenciações feitas até se obter uam série estacionária**. No nosso caso, será 1\n",
        "\n",
        "Em geral, modelos ARIMA usam apenas um dos parâmetros AR ou MA. Uma forma de definir qual deve ser usado e seu valor é através da autocorrelação e autocorrelação parcial."
      ],
      "metadata": {
        "id": "Sjo8O11rKhcw"
      }
    },
    {
      "cell_type": "markdown",
      "source": [
        "### Autocorrelação e Autocorrelação parcial"
      ],
      "metadata": {
        "id": "pBAE3_aXKxZw"
      }
    },
    {
      "cell_type": "code",
      "source": [
        "from statsmodels.graphics.tsaplots import plot_acf, plot_pacf"
      ],
      "metadata": {
        "id": "4G9gosIG-gKg"
      },
      "execution_count": null,
      "outputs": []
    },
    {
      "cell_type": "code",
      "source": [
        "plot_acf(serie_tratada, zero=False)\n",
        "_ = plot_pacf(serie_tratada, zero=False)"
      ],
      "metadata": {
        "id": "-znvqvcUJXBt"
      },
      "execution_count": null,
      "outputs": []
    },
    {
      "cell_type": "markdown",
      "source": [
        "Para decidirmos qual dos parâmetros do ARIMA serão usados, devemos olhar para a autocorrelação de lag 1.\n",
        "\n",
        "**Se ela for positiva, usaremos o parâmetro AR**, e seu valor será o **lag anterior ao primeiro lag não significativo da autocorrelação parcial**.\n",
        "\n",
        "**Se ela for negativa, usaremos o parâmetro MA**, e seu valor será o **lag anterior ao primeiro lag não significativo da autocorrelação normal**.\n",
        "\n",
        "No nosso caso, usaremos um modelo ARIMA de ordem (2,1,0)"
      ],
      "metadata": {
        "id": "pT0JANEB_Ag0"
      }
    },
    {
      "cell_type": "code",
      "source": [
        "ordem = (2,1,0)\n",
        "modelo = ARIMA(order=ordem)"
      ],
      "metadata": {
        "id": "t7OiWieesAyB"
      },
      "execution_count": null,
      "outputs": []
    },
    {
      "cell_type": "markdown",
      "source": [
        "Agora que definimos a ordem do nosso modelo, devemos encaixar seus parâmetros no nosso dado. Para fazermos predições mais tarde, **iremos separar nosso conjunto em treino e teste**."
      ],
      "metadata": {
        "id": "jaLJwJBfATK2"
      }
    },
    {
      "cell_type": "code",
      "source": [
        "# 80% treino, 20% teste\n",
        "divisao_treino_teste = int(len(serie) * 0.8)\n",
        "\n",
        "treino = np.array(serie['value'][:divisao_treino_teste])\n",
        "teste = np.array(serie['value'][divisao_treino_teste:])"
      ],
      "metadata": {
        "id": "kpRiZXecAif7"
      },
      "execution_count": null,
      "outputs": []
    },
    {
      "cell_type": "markdown",
      "source": [
        "Vamos treinar o modelo sob os dados de treino."
      ],
      "metadata": {
        "id": "vWTJrbxlA8lb"
      }
    },
    {
      "cell_type": "code",
      "source": [
        "modelo = modelo.fit(treino)\n",
        "modelo.summary()"
      ],
      "metadata": {
        "id": "sFce7IoGDTNm"
      },
      "execution_count": null,
      "outputs": []
    },
    {
      "cell_type": "markdown",
      "source": [
        "Com o modelo treinado, podemos fazer predições **sob o conjunto de treino**"
      ],
      "metadata": {
        "id": "MW6y2KtzA6VW"
      }
    },
    {
      "cell_type": "code",
      "source": [
        "predicoes_treino = modelo.predict_in_sample()\n",
        "plot(serie['value'], sec_plots=[predicoes_treino], min_y=0)"
      ],
      "metadata": {
        "id": "zZgc_nAOEytx"
      },
      "execution_count": null,
      "outputs": []
    },
    {
      "cell_type": "markdown",
      "source": [
        "Vamos fazer predições para o resto da série e comparar com o conjunto de teste"
      ],
      "metadata": {
        "id": "6W7HXHnOBiQ-"
      }
    },
    {
      "cell_type": "code",
      "source": [
        "predicoes_teste = modelo.predict(len(teste))\n",
        "plot(teste, sec_plots=[predicoes_teste])"
      ],
      "metadata": {
        "id": "G587kcKFBoYx"
      },
      "execution_count": null,
      "outputs": []
    },
    {
      "cell_type": "markdown",
      "source": [
        "Vamos juntar os dois gráficos para ter uma visão completa da performance do modelo"
      ],
      "metadata": {
        "id": "SIPDgR3WBt4u"
      }
    },
    {
      "cell_type": "code",
      "source": [
        "plot(np.concatenate((treino, teste)), sec_plots=[np.concatenate((predicoes_treino, predicoes_teste))])"
      ],
      "metadata": {
        "id": "OL_wOcVOB0kx"
      },
      "execution_count": null,
      "outputs": []
    },
    {
      "cell_type": "markdown",
      "source": [
        "Por que nosso modelo ficou desse jeito durante o conjunto de teste?"
      ],
      "metadata": {
        "id": "Q2-snJ2XCT2Q"
      }
    },
    {
      "cell_type": "markdown",
      "source": [
        "## Usando SARIMA, o ARIMA sazonal\n",
        "\n",
        "Cometemos um erro durante o passo de diferenciação. Qual foi esse erro?"
      ],
      "metadata": {
        "id": "2Pwpy8w7CZIx"
      }
    },
    {
      "cell_type": "code",
      "source": [
        "serie_tratada = lag_diff(serie_log)\n",
        "plot(serie_tratada)"
      ],
      "metadata": {
        "id": "_hmQoHRAC4Av"
      },
      "execution_count": null,
      "outputs": []
    },
    {
      "cell_type": "markdown",
      "source": [
        "A série ainda possui sazonalidade. Nesse caso, o correto é fazer uma **diferenciação sazonal**.\n",
        "\n",
        "A diferenciação sazonal é uma diferenciação de ordem k onde **k é o período da série**.\n",
        "\n",
        "Vamos corrigir esse erro."
      ],
      "metadata": {
        "id": "ElhRl1ASC6Ev"
      }
    },
    {
      "cell_type": "code",
      "source": [
        "serie_diff = lag_diff(serie_log, lag=12)\n",
        "plot(serie_diff)"
      ],
      "metadata": {
        "id": "g8au7np9DJrf"
      },
      "execution_count": null,
      "outputs": []
    },
    {
      "cell_type": "markdown",
      "source": [
        "Após a diferenciação, podemos dizer que a série é estacionária?\n",
        "\n",
        "---\n",
        "\n",
        "Ela **não possui sazonalidade**, mas ainda possui uma média variada ao longo da série. Vamos aplicar a diferença de primeira ordem."
      ],
      "metadata": {
        "id": "dYeao7CEHq-g"
      }
    },
    {
      "cell_type": "code",
      "source": [
        "serie_tratada2 = lag_diff(serie_diff, lag=1)\n",
        "plot(serie_tratada2)"
      ],
      "metadata": {
        "id": "re2S-aYW6-Jp"
      },
      "execution_count": null,
      "outputs": []
    },
    {
      "cell_type": "markdown",
      "source": [
        "Agora temos uma série com média e variância constante. Mas como ficam os parâmetros do ARIMA?\n",
        "\n",
        "Além dos parâmetros p, i e q, o modelo SARIMA tem mais **quatro parâmetros**, sendo eles **P, I, Q e M**. Com exceção do M, que representa o **período da série**, esses parâmetros são similares aos do ARIMA não sazonal, mas tem relação com a sazonalidade da série. \n",
        "\n",
        "##Definindo parâmetros P, I, Q e M\n",
        "\n",
        "Vamos rever os gráficos de autocorrelação"
      ],
      "metadata": {
        "id": "NQ7sUyFB9A15"
      }
    },
    {
      "cell_type": "code",
      "source": [
        "plot_acf(serie_tratada2, zero=False, lags=30)\n",
        "_ = plot_pacf(serie_tratada2, zero=False, lags=30)"
      ],
      "metadata": {
        "id": "BugXQNz7Ee8t"
      },
      "execution_count": null,
      "outputs": []
    },
    {
      "cell_type": "markdown",
      "source": [
        "Agora temos um **valor negativo para a primeira autocorrelação**. Então a nossa ordem não sazonal será **(0,1,1)**.\n",
        "\n",
        "A parte sazonal segue a mesma lógica, mas para a **autocorrelação na posição M**. Temos uma autocorrelação **negativa** na posição 12, então usaremos o parâmetro MA, e seu valor **será 1, pois a posição 1x12 é significativa, enquanto a posição 2x12 está bem próxima de não ser significativa**.\n",
        "\n",
        "Logo, a ordem do nosso modelo SARIMA será (0,1,1)(0,1,1,12). Vamos criar o modelo e fazer as predições."
      ],
      "metadata": {
        "id": "58M5lUX3EjiZ"
      }
    },
    {
      "cell_type": "code",
      "source": [
        "ordem = (0,1,1)\n",
        "ordem_sazonal = (0,1,1,12)\n",
        "modelo_sazonal = ARIMA(order=ordem, seasonal_order=ordem_sazonal)\n",
        "modelo_sazonal = modelo_sazonal.fit(treino)\n",
        "modelo_sazonal.summary()"
      ],
      "metadata": {
        "id": "BqGVMzkqFgim"
      },
      "execution_count": null,
      "outputs": []
    },
    {
      "cell_type": "code",
      "source": [
        "modelo.summary()"
      ],
      "metadata": {
        "id": "0Tigism0UCMi"
      },
      "execution_count": null,
      "outputs": []
    },
    {
      "cell_type": "code",
      "source": [
        "predicoes_treino = modelo_sazonal.predict_in_sample()\n",
        "plot(serie['value'], sec_plots=[predicoes_treino], min_y=0)"
      ],
      "metadata": {
        "id": "eGNFZsqCF3_L"
      },
      "execution_count": null,
      "outputs": []
    },
    {
      "cell_type": "code",
      "source": [
        "predicoes_teste = modelo_sazonal.predict(len(teste))\n",
        "plot(teste, sec_plots=[predicoes_teste])"
      ],
      "metadata": {
        "id": "AqJxJ0XYF_6m"
      },
      "execution_count": null,
      "outputs": []
    },
    {
      "cell_type": "code",
      "source": [
        "plot(np.concatenate((treino, teste)), sec_plots=[np.concatenate((predicoes_treino, predicoes_teste))])"
      ],
      "metadata": {
        "id": "TI6uTlsfGCEK"
      },
      "execution_count": null,
      "outputs": []
    },
    {
      "cell_type": "markdown",
      "source": [
        "Agora nosso modelo segue muito mais fielmente à série original."
      ],
      "metadata": {
        "id": "3Ind-wNrGDmc"
      }
    },
    {
      "cell_type": "markdown",
      "source": [
        "## AutoARIMA\n",
        "\n",
        "Existe uma forma de encontrar os parâmetros **p, q, P e Q** do SARIMA automaticamente. Para isso, usaremos a função `AutoARIMA` da biblioteca `pmdarima`"
      ],
      "metadata": {
        "id": "9wS6tNJPGwNr"
      }
    },
    {
      "cell_type": "code",
      "source": [
        "modelo_auto = AutoARIMA(d=1, D=1, m=12)\n",
        "modelo_auto = modelo_auto.fit(treino)\n",
        "modelo_auto.summary()"
      ],
      "metadata": {
        "id": "00C5BmZxHATZ"
      },
      "execution_count": null,
      "outputs": []
    },
    {
      "cell_type": "code",
      "source": [
        "predicoes_treino = modelo_auto.predict_in_sample()\n",
        "plot(serie['value'], sec_plots=[predicoes_treino], min_y=0)\n",
        "predicoes_teste = modelo_auto.predict(len(teste))\n",
        "plot(teste, sec_plots=[predicoes_teste])\n",
        "plot(np.concatenate((treino, teste)), sec_plots=[np.concatenate((predicoes_treino, predicoes_teste))])"
      ],
      "metadata": {
        "id": "odCDqMs-HqTY"
      },
      "execution_count": null,
      "outputs": []
    },
    {
      "cell_type": "markdown",
      "source": [
        "O AutoARIMA faz a busca do melhor modelo através de uma busca sequencial dos melhores parâmetros afim de minimalizar a estatística AIC."
      ],
      "metadata": {
        "id": "JQfdSgDKIBVW"
      }
    }
  ]
}